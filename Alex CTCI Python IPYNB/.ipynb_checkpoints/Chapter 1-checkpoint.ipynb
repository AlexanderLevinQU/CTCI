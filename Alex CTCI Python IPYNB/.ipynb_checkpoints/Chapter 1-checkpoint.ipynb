{
 "cells": [
  {
   "cell_type": "markdown",
   "metadata": {},
   "source": [
    "### Question 1.1 Is unique?\n",
    "##### Implement an algorithm to determine if a string has all unique characters. What if you cannot use additional data structures? \n"
   ]
  },
  {
   "cell_type": "code",
   "execution_count": 4,
   "metadata": {},
   "outputs": [
    {
     "name": "stdout",
     "output_type": "stream",
     "text": [
      "hello is not unique\n",
      "dog is unique\n"
     ]
    }
   ],
   "source": [
    "#with a hashtable\n",
    "def isunique(s):\n",
    "    #add each ele into hashtable\n",
    "    hashtable = dict()\n",
    "    for c in s:\n",
    "        if c not in hashtable:\n",
    "            hashtable[c] = 1\n",
    "        else:\n",
    "            return \"not unique\"\n",
    "    return \"unique\"\n",
    "    #if the value already has 1 in it then remove\n",
    "print('hello is ' + isunique('hello'))\n",
    "print('dog is ' + isunique('dog'))"
   ]
  },
  {
   "cell_type": "code",
   "execution_count": 12,
   "metadata": {},
   "outputs": [
    {
     "name": "stdout",
     "output_type": "stream",
     "text": [
      "hello is not unique\n",
      "dog is unique\n",
      "dogg is not unique\n"
     ]
    }
   ],
   "source": [
    "#No additional data structures\n",
    "def isunique(s):\n",
    "    #would have to do in a nested loop\n",
    "    #check every char to see if its not the same\n",
    "    fast = 1\n",
    "    slow = 0\n",
    "    while slow != len(s)-1:\n",
    "        if s[slow] == s[fast]:\n",
    "            return \"not unique\"\n",
    "        elif fast == len(s)-1:\n",
    "            slow +=1\n",
    "            fast = slow + 1\n",
    "        else:\n",
    "            fast+=1\n",
    "    return \"unique\"\n",
    "            \n",
    "print('hello is ' + isunique('hello'))\n",
    "print('dog is ' + isunique('dog'))\n",
    "print('dogg is ' + isunique('dogg'))"
   ]
  },
  {
   "cell_type": "code",
   "execution_count": 14,
   "metadata": {},
   "outputs": [
    {
     "name": "stdout",
     "output_type": "stream",
     "text": [
      "hello is not unique\n",
      "dog is unique\n",
      "dogg is not unique\n"
     ]
    }
   ],
   "source": [
    "#Sorting then see if any two in a row\n",
    "def isunique(s):\n",
    "    #first sort the string\n",
    "    #check if the next char is the same as the last\n",
    "    s = sorted(s)\n",
    "    for i in range(len(s)-1):\n",
    "        if s[i] == s[i+1]:\n",
    "            return \"not unique\"\n",
    "    return \"unique\"\n",
    "\n",
    "            \n",
    "print('hello is ' + isunique('hello'))\n",
    "print('dog is ' + isunique('dog'))\n",
    "print('dogg is ' + isunique('dogg'))"
   ]
  },
  {
   "cell_type": "markdown",
   "metadata": {},
   "source": [
    "### Question 1.2 Check Permutation\n",
    "##### Given two strings, write a method to decide if one is a permutation of the other. "
   ]
  },
  {
   "cell_type": "code",
   "execution_count": 45,
   "metadata": {},
   "outputs": [
    {
     "name": "stdout",
     "output_type": "stream",
     "text": [
      "dog and god are a permutation\n",
      "mace and race are not a not permutation\n",
      "gjhjgh and gghjjj are a not permutation\n",
      "gjhjgh and gghhjj are a permutation\n"
     ]
    }
   ],
   "source": [
    "#Hashtable approach\n",
    "#create hashtable of each string and see if they are the same\n",
    "def create_hashtable(s, ht):\n",
    "    for c in s:\n",
    "        if c not in ht:\n",
    "            ht[c] = 1\n",
    "        else:\n",
    "            ht[c] += 1\n",
    "    return ht\n",
    "def permutationCheck(s1, s2):\n",
    "    s1_hash = dict()\n",
    "    s2_hash = dict()\n",
    "    s1_hash = create_hashtable(s1, s1_hash)\n",
    "    s2_hash = create_hashtable(s2, s2_hash)\n",
    "    \n",
    "    if s1_hash == s2_hash:\n",
    "        return \"permutation\"\n",
    "    else:\n",
    "        return \"not permutation\"\n",
    "print('dog and god are a ' + permutationCheck('dog', 'god'))\n",
    "print('mace and race are not a ' + permutationCheck('race', 'mace'))\n",
    "print('gjhjgh and gghjjj are a '+ permutationCheck('gjhjgh', 'gghjjj'))\n",
    "print('gjhjgh and gghhjj are a '+ permutationCheck('gjhjgh', 'gghhjj'))"
   ]
  },
  {
   "cell_type": "code",
   "execution_count": 46,
   "metadata": {},
   "outputs": [
    {
     "name": "stdout",
     "output_type": "stream",
     "text": [
      "dog and god are a permutation\n",
      "mace and race are not a not permutation\n",
      "gjhjgh and gghjjj are a not permutation\n",
      "gjhjgh and gghhjj are a permutation\n"
     ]
    }
   ],
   "source": [
    "#Sort the strings approach\n",
    "#sort both strings and check if they are equal to one another\n",
    "def permutationCheck(s1, s2):\n",
    "    sorted_s1 = sorted(s1)\n",
    "    sorted_s2 = sorted(s2)\n",
    "    \n",
    "    if len(sorted_s1) != len(sorted_s2):\n",
    "        return \"not permutation\"\n",
    "    for i in range(len(sorted_s1)):\n",
    "        if sorted_s1[i] != sorted_s2[i]:\n",
    "            return \"not permutation\"\n",
    "    return \"permutation\"\n",
    "print('dog and god are a ' + permutationCheck('dog', 'god'))\n",
    "print('mace and race are not a ' + permutationCheck('race', 'mace'))\n",
    "print('gjhjgh and gghjjj are a '+ permutationCheck('gjhjgh', 'gghjjj'))\n",
    "print('gjhjgh and gghhjj are a '+ permutationCheck('gjhjgh', 'gghhjj'))"
   ]
  },
  {
   "cell_type": "code",
   "execution_count": 47,
   "metadata": {},
   "outputs": [
    {
     "name": "stdout",
     "output_type": "stream",
     "text": [
      "dog and god are a permutation\n",
      "mace and race are not a not permutation\n",
      "gjhjgh and gghjjj are a not permutation\n",
      "gjhjgh and gghhjj are a permutation\n"
     ]
    }
   ],
   "source": [
    "#Counter Approach\n",
    "#create count for each value\n",
    "def permutationCheck(s1, s2):\n",
    "    if len(s1) != len(s2):\n",
    "        return \"not permutation\"\n",
    "    counter = dict()\n",
    "    for c in s1:\n",
    "        if c not in counter:\n",
    "            counter[c] = 1\n",
    "        else:\n",
    "            counter[c] += 1\n",
    "    for c in s2:\n",
    "        if c not in counter:\n",
    "            return \"not permutation\"\n",
    "        else:\n",
    "            counter[c] -= 1\n",
    "            if counter[c] < 0:\n",
    "                return \"not permutation\"\n",
    "    return \"permutation\"\n",
    "print('dog and god are a ' + permutationCheck('dog', 'god'))\n",
    "print('mace and race are not a ' + permutationCheck('race', 'mace'))\n",
    "print('gjhjgh and gghjjj are a '+ permutationCheck('gjhjgh', 'gghjjj'))\n",
    "print('gjhjgh and gghhjj are a '+ permutationCheck('gjhjgh', 'gghhjj'))"
   ]
  },
  {
   "cell_type": "markdown",
   "metadata": {},
   "source": [
    "### 1.3 URLify\n",
    "##### Write a method to replace all spaces in a string with '%20'. You may assume that the string has sufficient space at the end to hold the additional characters, and that you are given the \"true\" length of the string. (Note: If implementing in Java, please use a character array so that you can perform this operation in place.)\n",
    "##### EXAMPLE\n",
    "##### Input: \"Mr 3ohn Smith\"\n",
    "##### Output: \"Mr%203ohn%20Smith\" "
   ]
  },
  {
   "cell_type": "code",
   "execution_count": 49,
   "metadata": {},
   "outputs": [
    {
     "data": {
      "text/plain": [
       "'Mr%203ohn%20Smith'"
      ]
     },
     "execution_count": 49,
     "metadata": {},
     "output_type": "execute_result"
    }
   ],
   "source": [
    "#Just use replace\n",
    "def urlify(s):\n",
    "    return s.replace(\" \", \"%20\")\n",
    "urlify(\"Mr 3ohn Smith\")"
   ]
  },
  {
   "cell_type": "code",
   "execution_count": 63,
   "metadata": {},
   "outputs": [
    {
     "data": {
      "text/plain": [
       "'Mr%203ohn%20Smith'"
      ]
     },
     "execution_count": 63,
     "metadata": {},
     "output_type": "execute_result"
    }
   ],
   "source": [
    "#make char string to replace in char array then make back into a strng\n",
    "def urlify(s):\n",
    "    l_s = list(s)\n",
    "    for i in range(len(l_s)):\n",
    "        if l_s[i] == \" \":\n",
    "            l_s[i] = '%20'\n",
    "    s = ''.join([str(e) for e in l_s])\n",
    "    return s\n",
    "urlify(\"Mr 3ohn Smith\")"
   ]
  },
  {
   "cell_type": "markdown",
   "metadata": {},
   "source": [
    "### 1.4 Palindrome Permutation\n",
    "##### Given a string, write a function to check if it is a permutation of a palindrome. A palindrome is a word or phrase that is the same forwards and backwards. A permutation is a rearrangement of letters. The palindrome does not need to be limited to just dictionary words. \n"
   ]
  },
  {
   "cell_type": "code",
   "execution_count": 71,
   "metadata": {},
   "outputs": [
    {
     "name": "stdout",
     "output_type": "stream",
     "text": [
      "racecar is a palindrome permutation\n",
      "dood is a palindrome permutation\n",
      "hello is a not palindrome permutation\n",
      "helleh is a palindrome permutation\n"
     ]
    }
   ],
   "source": [
    "#use a hashtable to count letters\n",
    "#racecar odd even of each number and 1 odd\n",
    "#dood even even of each number\n",
    "def create_hashtable(s):\n",
    "    ht = dict()\n",
    "    for c in s:\n",
    "        if c not in ht:\n",
    "            ht[c] = 1\n",
    "        else:\n",
    "            ht[c] += 1\n",
    "    return ht\n",
    "def palindromePerm(s):\n",
    "    s_hashed = create_hashtable(s)\n",
    "    odd_nums = 0\n",
    "    count_odds = 0\n",
    "    if len(s)%2> 0: \n",
    "        odd_nums = 1\n",
    "    else: \n",
    "        odd_nums = 0\n",
    "    for c in s:\n",
    "        if s_hashed[c] % 2 > 0:\n",
    "            count_odds += 1\n",
    "            if count_odds > odd_nums:\n",
    "                return \"not palindrome permutation\"\n",
    "    return \"palindrome permutation\"\n",
    "    \n",
    "print('racecar is a ' + palindromePerm('racecar'))\n",
    "print('dood is a ' + palindromePerm('dood'))\n",
    "print('hello is a ' + palindromePerm('hello'))\n",
    "print('helleh is a ' + palindromePerm('helleh'))"
   ]
  },
  {
   "cell_type": "code",
   "execution_count": 74,
   "metadata": {},
   "outputs": [
    {
     "name": "stdout",
     "output_type": "stream",
     "text": [
      "racecar is a palindrome permutation\n",
      "dood is a not palindrome permutation\n",
      "hello is a palindrome permutation\n",
      "helleh is a not palindrome permutation\n"
     ]
    }
   ],
   "source": [
    "#Sort the string \n",
    "#then do same odd even check\n",
    "def palindromePerm(s):\n",
    "    s_sorted = sorted(s)\n",
    "    odd_nums = 0\n",
    "    count_odds = 0\n",
    "    if len(s)%2> 0: \n",
    "        odd_nums = 1\n",
    "    else: \n",
    "        odd_nums = 0\n",
    "    count_curr = 0\n",
    "    for i in range(len(s_sorted)-1):\n",
    "        if s_sorted[i] == s_sorted[i+1]:\n",
    "            count_curr+=1\n",
    "        else:\n",
    "            if count_curr % 2 > 0:\n",
    "                count_odds += 1\n",
    "                if count_odds > odd_nums:\n",
    "                    return \"not palindrome permutation\"\n",
    "    return \"palindrome permutation\"\n",
    "\n",
    "print('racecar is a ' + palindromePerm('racecar'))\n",
    "print('dood is a ' + palindromePerm('dood'))\n",
    "print('hello is a ' + palindromePerm('hello'))\n",
    "print('helleh is a ' + palindromePerm('helleh'))"
   ]
  },
  {
   "cell_type": "markdown",
   "metadata": {},
   "source": [
    "### 1.5 One Away\n",
    "##### There are three types of edits that can be performed on strings: insert a character, remove a character, or replace a character. Given two strings, write a function to check if they are one edit (or zero edits) away. \n",
    "##### EXAMPLE\n",
    "##### pale , ple - > true\n",
    "##### pales , pale - > true\n",
    "##### pale , bale - > true\n",
    "##### pale , bake - > false \n"
   ]
  },
  {
   "cell_type": "code",
   "execution_count": 92,
   "metadata": {},
   "outputs": [
    {
     "name": "stdout",
     "output_type": "stream",
     "text": [
      "pale and bale are one edit away\n",
      "pales and pale are one edit away\n",
      "pale and bale are one edit away\n",
      "pale and bake are not one edit away\n"
     ]
    }
   ],
   "source": [
    "#break into 3 different things\n",
    "one_edit_str = \"one edit away\"\n",
    "not_one_edit = 'not one edit away'\n",
    "def one_away(s, chg_s):\n",
    "    if len(s) == len(chg_s):\n",
    "        return one_replace(s, chg_s)\n",
    "    elif len(s) < len(chg_s):\n",
    "        return one_insert(s, chg_s)\n",
    "    elif len(s) > len(chg_s):\n",
    "        return one_remove(s, chg_s)\n",
    "    else:\n",
    "        return not_one_edit\n",
    "        \n",
    "def one_insert(s, chg_s):\n",
    "    i = 0\n",
    "    j = 0\n",
    "    changed_letter = 0\n",
    "    #when the change is found skip it and check if the rest are equal\n",
    "    while i < len(chg_s) and j < len(s):\n",
    "        if s[j] != chg_s[i]:\n",
    "            changed_letter+=1\n",
    "            i+=1\n",
    "            if changed_letter > 1:\n",
    "                return not_one_edit\n",
    "        else:\n",
    "            i+=1\n",
    "            j+=1\n",
    "    return one_edit_str\n",
    "        \n",
    "        \n",
    "\n",
    "def one_remove(s, chg_s):\n",
    "    i = 0\n",
    "    j = 0\n",
    "    changed_letter = 0\n",
    "    #when the change is found skip it and check if the rest are equal\n",
    "    while i < len(chg_s) and j < len(s):\n",
    "        if s[j] != chg_s[i]:\n",
    "            changed_letter+=1\n",
    "            j+=1\n",
    "            if changed_letter > 1:\n",
    "                return not_one_edit\n",
    "        else:\n",
    "            i+=1\n",
    "            j+=1\n",
    "    return one_edit_str\n",
    "    \n",
    "def one_replace(s, chg_s):\n",
    "    i = 0\n",
    "    j = 0\n",
    "    changed_letter = 0\n",
    "    #when the change is found skip it and check if the rest are equal\n",
    "    while i < len(chg_s) and j < len(s):\n",
    "        if s[j] != chg_s[i]:\n",
    "            changed_letter+=1\n",
    "            if changed_letter > 1:\n",
    "                return not_one_edit\n",
    "            i+=1\n",
    "            j+=1\n",
    "        else:\n",
    "            i+=1\n",
    "            j+=1\n",
    "    return one_edit_str\n",
    "print('pale and bale are '+ one_away('pale', 'ple'))\n",
    "print('pales and pale are '+ one_away('pales', 'pale'))\n",
    "print('pale and bale are ' + one_away('pale', 'bale'))\n",
    "print('pale and bake are ' + one_away('pale', 'bake'))"
   ]
  },
  {
   "cell_type": "markdown",
   "metadata": {},
   "source": [
    "### 1.6 String Compression \n",
    "##### Implement a method to perform basic string compression using the counts of repeated characters. For example, the string aabcccccaaa would become a2blc5a3, If the \"compressed\" string would not become smaller than the original string, your method should return the original string. You can assume the string has only uppercase and lowercase letters (a - z). \n"
   ]
  },
  {
   "cell_type": "code",
   "execution_count": 95,
   "metadata": {},
   "outputs": [
    {
     "name": "stdout",
     "output_type": "stream",
     "text": [
      "aabcccccaaa compressed is a2b1c5a3\n",
      "aabcccrrsccaaa compressed is a2b1c3r2s1c2a3\n"
     ]
    }
   ],
   "source": [
    "#create a stack\n",
    "#keep adding while it is the same. Once it is different get rid of it and put len and num to new strng\n",
    "def string_compression(s):\n",
    "    stack = []\n",
    "    compressed_str = \"\"\n",
    "    for c in s:\n",
    "        if len(stack) == 0:\n",
    "            stack.append(c)\n",
    "        elif stack[-1] == c:\n",
    "            stack.append(c)\n",
    "        else:\n",
    "            compressed_str = compressed_str + stack[-1] + str(len(stack))\n",
    "            stack.clear()\n",
    "            stack.append(c)\n",
    "    if len(stack) > 0:\n",
    "        compressed_str = compressed_str + stack[-1] + str(len(stack))\n",
    "        stack.clear()\n",
    "    return compressed_str\n",
    "\n",
    "print(\"aabcccccaaa compressed is \" + string_compression(\"aabcccccaaa\"))\n",
    "print(\"aabcccrrsccaaa compressed is \" + string_compression(\"aabcccrrsccaaa\"))"
   ]
  },
  {
   "cell_type": "markdown",
   "metadata": {},
   "source": [
    "### 1.7 Rotate Matrix\n",
    "##### Given an image represented by an NxN matrix, where each pixel in the image is 4 bytes, write a method to rotate the image by 90 degrees. Can you do this in place? \n"
   ]
  },
  {
   "cell_type": "code",
   "execution_count": 98,
   "metadata": {},
   "outputs": [
    {
     "data": {
      "text/plain": [
       "[[1, 1, 1, 1], [2, 2, 2, 2], [3, 3, 3, 3], [4, 4, 4, 4]]"
      ]
     },
     "execution_count": 98,
     "metadata": {},
     "output_type": "execute_result"
    }
   ],
   "source": [
    "[[1,2,3,4],\n",
    " [1,2,3,4],\n",
    " [1,2,3,4],\n",
    " [1,2,3,4]]\n",
    "\n",
    "[[1,1,1,1],\n",
    " [2,2,2,2],\n",
    " [3,3,3,3],\n",
    " [4,4,4,4]]\n",
    "\n",
    "#[0][0] rotates to [0][3]\n",
    "#[1][0] rotates to [0][2]\n",
    "#[2][0] rotates to [0][1]\n",
    "#[3][0] rotates to [0][0]\n",
    "#[0][1] rotates to [1][3]\n",
    "#[1][1] rotates to [1][2]\n",
    "#[2][1] rotates to [1][1]\n",
    "#[3][1] rotates to [1][0]"
   ]
  },
  {
   "cell_type": "code",
   "execution_count": null,
   "metadata": {},
   "outputs": [],
   "source": []
  }
 ],
 "metadata": {
  "kernelspec": {
   "display_name": "Python 3",
   "language": "python",
   "name": "python3"
  },
  "language_info": {
   "codemirror_mode": {
    "name": "ipython",
    "version": 3
   },
   "file_extension": ".py",
   "mimetype": "text/x-python",
   "name": "python",
   "nbconvert_exporter": "python",
   "pygments_lexer": "ipython3",
   "version": "3.7.3"
  }
 },
 "nbformat": 4,
 "nbformat_minor": 4
}
